{
 "cells": [
  {
   "cell_type": "markdown",
   "metadata": {
    "id": "kaCH9_x1cEtG"
   },
   "source": [
    "\n",
    "\n",
    "If running this demo in Google Colab, **Switch to GPU**:\n",
    "\n",
    "\n",
    "\n",
    "*   Go to Edit → Notebook Settings\n",
    "*   Choose GPU from Hardware Accelerator\n",
    "\n",
    "\n",
    "\n",
    "\n"
   ]
  },
  {
   "cell_type": "markdown",
   "metadata": {
    "id": "ELzL2xi3q-y3"
   },
   "source": [
    "# Installing SpinWalk\n",
    "\n",
    "\n",
    "**Steps:**\n",
    "*   Installing the libraries needed in SpinWalk\n",
    "*   Cloning the project, build and install it\n",
    "*   Test it runs and displays help menu"
   ]
  },
  {
   "cell_type": "code",
   "execution_count": 15,
   "metadata": {
    "colab": {
     "base_uri": "https://localhost:8080/"
    },
    "id": "Crjc9Yp71deU",
    "outputId": "063e8bfc-2721-465e-cc92-b3b788831fca"
   },
   "outputs": [
    {
     "name": "stdout",
     "output_type": "stream",
     "text": [
      "Reading package lists...\n",
      "Building dependency tree...\n",
      "Reading state information...\n",
      "libboost-all-dev is already the newest version (1.74.0.3ubuntu7).\n",
      "libhdf5-dev is already the newest version (1.10.7+repack-4ubuntu2).\n",
      "libtbb-dev is already the newest version (2021.5.0-7ubuntu2).\n",
      "0 upgraded, 0 newly installed, 0 to remove and 45 not upgraded.\n",
      "-- CMake version: 3.30.1\n",
      "-- The C compiler identification is GNU 11.4.0\n",
      "-- The CXX compiler identification is GNU 11.4.0\n",
      "-- Detecting C compiler ABI info\n",
      "-- Detecting C compiler ABI info - done\n",
      "-- Check for working C compiler: /usr/bin/cc - skipped\n",
      "-- Detecting C compile features\n",
      "-- Detecting C compile features - done\n",
      "-- Detecting CXX compiler ABI info\n",
      "-- Detecting CXX compiler ABI info - done\n",
      "-- Check for working CXX compiler: /usr/bin/c++ - skipped\n",
      "-- Detecting CXX compile features\n",
      "-- Detecting CXX compile features - done\n",
      "-- Found HDF5: /usr/lib/x86_64-linux-gnu/hdf5/serial/libhdf5_cpp.so;/usr/lib/x86_64-linux-gnu/hdf5/serial/libhdf5.so;/usr/lib/x86_64-linux-gnu/libcrypto.so;/usr/lib/x86_64-linux-gnu/libcurl.so;/usr/lib/x86_64-linux-gnu/libpthread.a;/usr/lib/x86_64-linux-gnu/libsz.so;/usr/lib/x86_64-linux-gnu/libz.so;/usr/lib/x86_64-linux-gnu/libdl.a;/usr/lib/x86_64-linux-gnu/libm.so (found version \"1.10.7\") found components: CXX\n",
      "-- Performing Test CMAKE_HAVE_LIBC_PTHREAD\n",
      "-- Performing Test CMAKE_HAVE_LIBC_PTHREAD - Success\n",
      "-- Found Threads: TRUE\n",
      "-- Looking for a CUDA compiler\n",
      "-- Looking for a CUDA compiler - /usr/local/cuda/bin/nvcc\n",
      "-- The CUDA compiler identification is NVIDIA 12.2.140\n",
      "-- Detecting CUDA compiler ABI info\n",
      "-- Detecting CUDA compiler ABI info - done\n",
      "-- Check for working CUDA compiler: /usr/local/cuda/bin/nvcc - skipped\n",
      "-- Detecting CUDA compile features\n",
      "-- Detecting CUDA compile features - done\n",
      "-- Configuring done (7.1s)\n",
      "-- Generating done (0.0s)\n",
      "-- Build files have been written to: /content/SpinWalk/build\n",
      "[ 14%] Building CUDA object CMakeFiles/SpinWalk.dir/src/spinwalk.cu.o\n",
      "[ 28%] Building CUDA object CMakeFiles/SpinWalk.dir/src/kernels.cu.o\n",
      "[ 42%] Building CXX object CMakeFiles/SpinWalk.dir/src/file_utils.cpp.o\n",
      "[ 57%] Building CXX object CMakeFiles/SpinWalk.dir/src/shapes/shape_base.cpp.o\n",
      "[ 71%] Building CXX object CMakeFiles/SpinWalk.dir/src/shapes/cylinder.cpp.o\n",
      "[ 85%] Building CXX object CMakeFiles/SpinWalk.dir/src/shapes/sphere.cpp.o\n",
      "[100%] Linking CXX executable spinwalk\n",
      "[100%] Built target SpinWalk\n",
      "-- Install configuration: \"\"\n",
      "-- Installing: /usr/local/bin/spinwalk\n",
      "-- Set non-toolchain portion of runtime path of \"/usr/local/bin/spinwalk\" to \"\"\n",
      "Running SpinWalk...\n",
      "Usage: spinwalk [OPTIONS] [SUBCOMMAND]\n",
      "\n",
      "Options:\n",
      "  -h,--help                   Print this help message and exit\n",
      "  -v,--version                Display program version information and exit\n",
      "  -g,--gpu_info               Print GPU information\n",
      "\n",
      "Subcommands:\n",
      "  phantom                     Phantom Generator\n",
      "  sim                         Simulation\n",
      "\n"
     ]
    }
   ],
   "source": [
    "%%bash\n",
    "# install dependencies\n",
    "apt-get install -y libboost-all-dev libhdf5-dev libtbb-dev\n",
    "\n",
    "# clone SpinWalk\n",
    "rm -rf SpinWalk\n",
    "git clone --depth 1 https://github.com/aghaeifar/SpinWalk.git &> /dev/null\n",
    "\n",
    "# build it\n",
    "cd SpinWalk\n",
    "cmake -B ./build\n",
    "cmake --build ./build --config Release\n",
    "cmake --install ./build\n",
    "\n",
    "# test it runs and show help menu\n",
    "echo \"Running SpinWalk...\"\n",
    "spinwalk"
   ]
  },
  {
   "cell_type": "markdown",
   "metadata": {
    "id": "IoyQLsDcUIQC"
   },
   "source": [
    "# Generating Phantom\n",
    "\n",
    "Here, **SpinWalk** generates a phantom containing cylinders with a radius of 8 µm, mimicking vessels with oxygeneation level of 78% and 85%. These cylinders will occupy 4% of the total volume, and the phantom will have a field of view (FoV) of 600 µm. The phantom will be stored in the `phantoms` folder."
   ]
  },
  {
   "cell_type": "code",
   "execution_count": 1,
   "metadata": {
    "colab": {
     "base_uri": "https://localhost:8080/"
    },
    "id": "73IlXn5c1BFb",
    "outputId": "6072c26f-efba-4897-d2b6-f8b1a4671aab"
   },
   "outputs": [
    {
     "name": "stdout",
     "output_type": "stream",
     "text": [
      " \n",
      " ____            _          __        __          _   _        \n",
      "/ ___|   _ __   (_)  _ __   \\ \\      / /   __ _  | | | | __    \n",
      "\\___ \\  | '_ \\  | | | '_ \\   \\ \\ /\\ / /   / _` | | | | |/ /    \n",
      " ___) | | |_) | | | | | | |   \\ V  V /   | (_| | | | |   <     \n",
      "|____/  | .__/  |_| |_| |_|    \\_/\\_/     \\__,_| |_| |_|\\_\\    \n",
      "        |_|                                                    \n",
      "\n",
      "SpinWalk ver. 1.15.0\n",
      "Log file location: \"/DATA/aaghaeifar/Nextcloud/Projects/microvascular/SpinWalk/demo/spinwalk_0.log\"\n",
      "Phantom information:\n",
      "  FOV: 600 um\n",
      "  Resolution: 600\n",
      "  Blood parameters: dChi=1.1e-07, Y=0.78\n",
      "  Filename: ./phantoms/r8_Y0.78_vf4_ori90_fov600_res600.h5\n",
      "  Seed: 0\n",
      "  Radius: 8 um\n",
      "  Volume Fraction: 4\n",
      "  Orientation: 90 rad\n",
      "Creating grid...\n",
      "Grid created successfully! Elapsed Time: 2 s\n",
      "Generating coordinates...for target BVF = 4% ...\n",
      "75 coordinates generated successfully! Elapsed Time: 0 s\n",
      "Generating cylinders...\n",
      "B0 direction: [1, 0, -4.37114e-08]\n",
      "Allocating memory...Done!\n",
      "Generating...\n",
      "[====================================================================================================] 100% \n",
      "Actual Volume Fraction = 4.01833% ...\n",
      "Cylinders generated successfully! Elapsed Time: 72 s\n",
      "Saving the results...\n",
      " \n",
      " ____            _          __        __          _   _        \n",
      "/ ___|   _ __   (_)  _ __   \\ \\      / /   __ _  | | | | __    \n",
      "\\___ \\  | '_ \\  | | | '_ \\   \\ \\ /\\ / /   / _` | | | | |/ /    \n",
      " ___) | | |_) | | | | | | |   \\ V  V /   | (_| | | | |   <     \n",
      "|____/  | .__/  |_| |_| |_|    \\_/\\_/     \\__,_| |_| |_|\\_\\    \n",
      "        |_|                                                    \n",
      "\n",
      "SpinWalk ver. 1.15.0\n",
      "Log file location: \"/DATA/aaghaeifar/Nextcloud/Projects/microvascular/SpinWalk/demo/spinwalk_0.log\"\n",
      "Phantom information:\n",
      "  FOV: 600 um\n",
      "  Resolution: 600\n",
      "  Blood parameters: dChi=1.1e-07, Y=0.85\n",
      "  Filename: ./phantoms/r8_Y0.85_vf4_ori90_fov600_res600.h5\n",
      "  Seed: 0\n",
      "  Radius: 8 um\n",
      "  Volume Fraction: 4\n",
      "  Orientation: 90 rad\n",
      "Creating grid...\n",
      "Grid created successfully! Elapsed Time: 2 s\n",
      "Generating coordinates...for target BVF = 4% ...\n",
      "75 coordinates generated successfully! Elapsed Time: 0 s\n",
      "Generating cylinders...\n",
      "B0 direction: [1, 0, -4.37114e-08]\n",
      "Allocating memory...Done!\n",
      "Generating...\n",
      "[====================================================================================================] 100% \n",
      "Actual Volume Fraction = 4.01833% ...\n",
      "Cylinders generated successfully! Elapsed Time: 74 s\n",
      "Saving the results...\n",
      "total 2060M\n",
      "-rw-r--r-- 1 aaghaeifar kyb 1030M Aug  6 14:50 r8_Y0.78_vf4_ori90_fov600_res600.h5\n",
      "-rw-r--r-- 1 aaghaeifar kyb 1030M Aug  6 14:51 r8_Y0.85_vf4_ori90_fov600_res600.h5\n"
     ]
    }
   ],
   "source": [
    "%%bash\n",
    "# Define the output directory\n",
    "output_dir=\"./phantoms\"\n",
    "mkdir -p \"$output_dir\"\n",
    "\n",
    "vol_frac=4\n",
    "oxy_level_act=0.85\n",
    "oxy_level_rest=0.78\n",
    "dChi=0.00000011\n",
    "orientation=90\n",
    "resolution=600\n",
    "fov=600\n",
    "radius=8\n",
    "\n",
    "# Define the output file\n",
    "output_file_rest=\"${output_dir}/r${radius}_Y${oxy_level_rest}_vf${vol_frac}_ori${orientation}_fov${fov}_res${resolution}.h5\"\n",
    "# Call the command with the variable parameter and redirect the output\n",
    "spinwalk phantom -c -r \"$radius\" -v \"$vol_frac\" -f \"$fov\" -z \"$resolution\" -d \"$dChi\" -y \"$oxy_level_rest\" -n \"$orientation\" -e 0 -o \"$output_file_rest\"\n",
    "\n",
    "# Define the output file\n",
    "output_file_act=\"${output_dir}/r${radius}_Y${oxy_level_act}_vf${vol_frac}_ori${orientation}_fov${fov}_res${resolution}.h5\"\n",
    "# Call the command with the variable parameter and redirect the output\n",
    "spinwalk phantom -c -r \"$radius\" -v \"$vol_frac\" -f \"$fov\" -z \"$resolution\" -d \"$dChi\" -y \"$oxy_level_act\" -n \"$orientation\" -e 0 -o \"$output_file_act\"\n",
    "\n",
    "# check phantoms are there\n",
    "ls -l --block-size=M ./phantoms\n"
   ]
  },
  {
   "cell_type": "markdown",
   "metadata": {
    "id": "BzTXiNlV1AtZ"
   },
   "source": [
    "# Creating Configuration File\n",
    "\n",
    "The default configuration file, contains all parameters, will be downloaded and used as parent for custom config file. We create config files to simulate GRE, SE, and bSSFP sequence.\n",
    "\n",
    "Sequence parameters and tissue parameters, such as relaxation times and diffusivity, are specified in the default configuration file. Only the parameters provided in the subsequent configuration files for GRE, SE, and bSSFP will override these defaults."
   ]
  },
  {
   "cell_type": "code",
   "execution_count": 3,
   "metadata": {
    "id": "GijlHXvgUD9V"
   },
   "outputs": [],
   "source": [
    "%%bash\n",
    "rm *.ini*\n",
    "wget https://raw.githubusercontent.com/aghaeifar/SpinWalk/main/config/config_default.ini &> /dev/null\n",
    "\n",
    "output_dir=\"./outputs\"\n",
    "mkdir -p \"$output_dir\""
   ]
  },
  {
   "cell_type": "markdown",
   "metadata": {
    "id": "8vyUVxEQ2neh"
   },
   "source": [
    "## GRE configuration file"
   ]
  },
  {
   "cell_type": "code",
   "execution_count": 15,
   "metadata": {
    "colab": {
     "base_uri": "https://localhost:8080/"
    },
    "id": "MdmhcnPT2xBj",
    "outputId": "96e387d2-0120-4a3a-88c6-98d5a798fc00"
   },
   "outputs": [
    {
     "name": "stdout",
     "output_type": "stream",
     "text": [
      "SEQ_NAME = gre\n",
      "[PARENT]\n",
      "PARENT_CONFIG = config_default.ini\n",
      "[FILES]\n",
      "OUTPUT_DIR  = ./outputs\n",
      "PHANTOM[0]  = ./phantoms/r8_Y0.78_vf4_ori90_fov600_res600.h5\n",
      "PHANTOM[1]  = ./phantoms/r8_Y0.85_vf4_ori90_fov600_res600.h5\n",
      "[SCAN_PARAMETERS]\n",
      "TR = 21000\n",
      "TE[0] = 20000\n",
      "RF_FA[0] = 90.0\n",
      "RF_PH[0] = 0.0\n",
      "RF_T[0] = 0\n",
      "[SIMULATION_PARAMETERS]\n",
      "SEED = 10\n",
      "NUMBER_OF_SPINS = 100000\n",
      "B0 = 9.4\n"
     ]
    }
   ],
   "source": [
    "%%bash\n",
    "# config file\n",
    "output_file=\"gre.ini\"\n",
    "# Write simulation settings to config file\n",
    "cat <<EOF > \"$output_file\"\n",
    "SEQ_NAME = gre\n",
    "[PARENT]\n",
    "PARENT_CONFIG = config_default.ini\n",
    "[FILES]\n",
    "OUTPUT_DIR  = ./outputs\n",
    "PHANTOM[0]  = ./phantoms/r8_Y0.78_vf4_ori90_fov600_res600.h5\n",
    "PHANTOM[1]  = ./phantoms/r8_Y0.85_vf4_ori90_fov600_res600.h5\n",
    "[SCAN_PARAMETERS]\n",
    "TR = 21000\n",
    "TE[0] = 20000\n",
    "RF_FA[0] = 90.0\n",
    "RF_PH[0] = 0.0\n",
    "RF_T[0] = 0\n",
    "[SIMULATION_PARAMETERS]\n",
    "SEED = 10\n",
    "NUMBER_OF_SPINS = 100000\n",
    "B0 = 9.4\n",
    "EOF\n",
    "\n",
    "# show content\n",
    "cat gre.ini\n"
   ]
  },
  {
   "cell_type": "markdown",
   "metadata": {
    "id": "VfxrxPy54azd"
   },
   "source": [
    "## SE configuration file\n"
   ]
  },
  {
   "cell_type": "code",
   "execution_count": 16,
   "metadata": {
    "colab": {
     "base_uri": "https://localhost:8080/"
    },
    "id": "mETO9KHs4fNy",
    "outputId": "8276e55c-f769-47f9-a81d-61052a9a2ba7"
   },
   "outputs": [
    {
     "name": "stdout",
     "output_type": "stream",
     "text": [
      "SEQ_NAME = se\n",
      "[PARENT]\n",
      "PARENT_CONFIG = config_default.ini\n",
      "[FILES]\n",
      "OUTPUT_DIR  = ./outputs\n",
      "PHANTOM[0]  = ./phantoms/r8_Y0.78_vf4_ori90_fov600_res600.h5\n",
      "PHANTOM[1]  = ./phantoms/r8_Y0.85_vf4_ori90_fov600_res600.h5\n",
      "[SCAN_PARAMETERS]\n",
      "TR = 31000\n",
      "TE[0] = 30000\n",
      "RF_FA[0] = 90.0\n",
      "RF_FA[1] = 180.0\n",
      "RF_PH[0] = 0.0\n",
      "RF_PH[1] = 90.0\n",
      "RF_T[0] = 0\n",
      "RF_T[1] = 15000\n",
      "[SIMULATION_PARAMETERS]\n",
      "SEED = 10\n",
      "NUMBER_OF_SPINS = 100000\n",
      "B0 = 9.4\n"
     ]
    }
   ],
   "source": [
    "%%bash\n",
    "# config file\n",
    "output_file=\"se.ini\"\n",
    "# Write simulation settings to config file\n",
    "cat <<EOF > \"$output_file\"\n",
    "SEQ_NAME = se\n",
    "[PARENT]\n",
    "PARENT_CONFIG = config_default.ini\n",
    "[FILES]\n",
    "OUTPUT_DIR  = ./outputs\n",
    "PHANTOM[0]  = ./phantoms/r8_Y0.78_vf4_ori90_fov600_res600.h5\n",
    "PHANTOM[1]  = ./phantoms/r8_Y0.85_vf4_ori90_fov600_res600.h5\n",
    "[SCAN_PARAMETERS]\n",
    "TR = 31000\n",
    "TE[0] = 30000\n",
    "RF_FA[0] = 90.0\n",
    "RF_FA[1] = 180.0\n",
    "RF_PH[0] = 0.0\n",
    "RF_PH[1] = 90.0\n",
    "RF_T[0] = 0\n",
    "RF_T[1] = 15000\n",
    "[SIMULATION_PARAMETERS]\n",
    "SEED = 10\n",
    "NUMBER_OF_SPINS = 100000\n",
    "B0 = 9.4\n",
    "EOF\n",
    "\n",
    "# show content\n",
    "cat se.ini"
   ]
  },
  {
   "cell_type": "markdown",
   "metadata": {
    "id": "rQ8zzaaT4tOr"
   },
   "source": [
    "## bSSFP configuration file\n"
   ]
  },
  {
   "cell_type": "code",
   "execution_count": 17,
   "metadata": {
    "colab": {
     "base_uri": "https://localhost:8080/"
    },
    "id": "tq720Sw_4xXy",
    "outputId": "28f813ee-54e2-490d-f9e8-8b418b124ca5"
   },
   "outputs": [
    {
     "name": "stdout",
     "output_type": "stream",
     "text": [
      "SEQ_NAME = bssfp\n",
      "[PARENT]\n",
      "PARENT_CONFIG = config_default.ini\n",
      "[FILES]\n",
      "OUTPUT_DIR  = ./outputs\n",
      "PHANTOM[0]  = ./phantoms/r8_Y0.78_vf4_ori90_fov600_res600.h5\n",
      "PHANTOM[1]  = ./phantoms/r8_Y0.85_vf4_ori90_fov600_res600.h5\n",
      "[SCAN_PARAMETERS]\n",
      "TR = 10000\n",
      "TE[0] = 5000\n",
      "RF_FA[0] = 20.0\n",
      "RF_PH[0] = 0.0\n",
      "RF_T[0] = 0\n",
      "DUMMY_SCAN  = -1\n",
      "PHASE_CYCLING = 180\n",
      "[SIMULATION_PARAMETERS]\n",
      "SEED = 10\n",
      "NUMBER_OF_SPINS = 100000\n",
      "B0 = 9.4\n"
     ]
    }
   ],
   "source": [
    "%%bash\n",
    "# config file\n",
    "output_file=\"bssfp.ini\"\n",
    "# Write simulation settings to config file\n",
    "cat <<EOF > \"$output_file\"\n",
    "SEQ_NAME = bssfp\n",
    "[PARENT]\n",
    "PARENT_CONFIG = config_default.ini\n",
    "[FILES]\n",
    "OUTPUT_DIR  = ./outputs\n",
    "PHANTOM[0]  = ./phantoms/r8_Y0.78_vf4_ori90_fov600_res600.h5\n",
    "PHANTOM[1]  = ./phantoms/r8_Y0.85_vf4_ori90_fov600_res600.h5\n",
    "[SCAN_PARAMETERS]\n",
    "TR = 10000\n",
    "TE[0] = 5000\n",
    "RF_FA[0] = 20.0\n",
    "RF_PH[0] = 0.0\n",
    "RF_T[0] = 0\n",
    "DUMMY_SCAN  = -1\n",
    "PHASE_CYCLING = 180\n",
    "[SIMULATION_PARAMETERS]\n",
    "SEED = 10\n",
    "NUMBER_OF_SPINS = 100000\n",
    "B0 = 9.4\n",
    "EOF\n",
    "\n",
    "# show content\n",
    "cat bssfp.ini"
   ]
  },
  {
   "cell_type": "markdown",
   "metadata": {
    "id": "l0il0R3w5END"
   },
   "source": [
    "# Simulation\n",
    "\n",
    "SpinWalk will read all the provided config files and simulate them sequentially."
   ]
  },
  {
   "cell_type": "code",
   "execution_count": 18,
   "metadata": {
    "colab": {
     "base_uri": "https://localhost:8080/"
    },
    "id": "KILIGTMrN7h8",
    "outputId": "866bfe46-6ee6-40ef-98f4-b403cd5ddc4f"
   },
   "outputs": [
    {
     "name": "stdout",
     "output_type": "stream",
     "text": [
      " \n",
      " ____            _          __        __          _   _        \n",
      "/ ___|   _ __   (_)  _ __   \\ \\      / /   __ _  | | | | __    \n",
      "\\___ \\  | '_ \\  | | | '_ \\   \\ \\ /\\ / /   / _` | | | | |/ /    \n",
      " ___) | | |_) | | | | | | |   \\ V  V /   | (_| | | | |   <     \n",
      "|____/  | .__/  |_| |_| |_|    \\_/\\_/     \\__,_| |_| |_|\\_\\    \n",
      "        |_|                                                    \n",
      "\n",
      "SpinWalk ver. 1.15.0\n",
      "Log file location: \"/DATA/aaghaeifar/Nextcloud/Projects/microvascular/SpinWalk/demo/spinwalk_0.log\"\n",
      "Running simulation for 3 config(s)...\n",
      "\n",
      "<gre.ini>\n",
      "Simulation starts...\n",
      "Loading phantom: r8_Y0.78_vf4_ori90_fov600_res600.h5\n",
      "[====================================================================================================] 100% \n",
      "Simulation took 1.3 sec., everything else took 1.6 sec.\n",
      "Saving the results to disk.\n",
      "Loading phantom: r8_Y0.85_vf4_ori90_fov600_res600.h5\n",
      "[====================================================================================================] 100% \n",
      "Simulation took 1.3 sec., everything else took 1.7 sec.\n",
      "Saving the results to disk.\n",
      "\n",
      "<se.ini>\n",
      "Simulation starts...\n",
      "Loading phantom: r8_Y0.78_vf4_ori90_fov600_res600.h5\n",
      "[====================================================================================================] 100% \n",
      "Simulation took 1.8 sec., everything else took 1.6 sec.\n",
      "Saving the results to disk.\n",
      "Loading phantom: r8_Y0.85_vf4_ori90_fov600_res600.h5\n",
      "[====================================================================================================] 100% \n",
      "Simulation took 1.8 sec., everything else took 1.3 sec.\n",
      "Saving the results to disk.\n",
      "\n",
      "<bssfp.ini>\n",
      "Simulation starts...\n",
      "Loading phantom: r8_Y0.78_vf4_ori90_fov600_res600.h5\n",
      "[====================================================================================================] 100% \n",
      "Simulation took 569 sec., everything else took 2 sec.\n",
      "Saving the results to disk.\n",
      "Loading phantom: r8_Y0.85_vf4_ori90_fov600_res600.h5\n",
      "[====================================================================================================] 100% \n",
      "Simulation took 572 sec., everything else took 1 sec.\n",
      "Saving the results to disk.\n",
      "\n",
      "Simulation(s) finished successfully! Total elapsed time = 1156 second(s).\n"
     ]
    }
   ],
   "source": [
    "%%bash\n",
    "spinwalk sim -c gre.ini se.ini bssfp.ini"
   ]
  },
  {
   "cell_type": "code",
   "execution_count": 9,
   "metadata": {
    "id": "KLe5Bgo4Rg2n"
   },
   "outputs": [
    {
     "name": "stdout",
     "output_type": "stream",
     "text": [
      "bssfp_r8_Y0.78_vf4_ori90_fov600_res600.h5\n",
      "bssfp_r8_Y0.85_vf4_ori90_fov600_res600.h5\n",
      "gre_r8_Y0.78_vf4_ori90_fov600_res600.h5\n",
      "gre_r8_Y0.85_vf4_ori90_fov600_res600.h5\n",
      "se_r8_Y0.78_vf4_ori90_fov600_res600.h5\n",
      "se_r8_Y0.85_vf4_ori90_fov600_res600.h5\n"
     ]
    }
   ],
   "source": [
    "%%bash\n",
    "# cat spinwalk_0.log\n",
    "ls ./outputs"
   ]
  },
  {
   "cell_type": "code",
   "execution_count": 19,
   "metadata": {
    "id": "MecOOSwyOWS2"
   },
   "outputs": [],
   "source": [
    "import os\n",
    "import numpy as np\n",
    "import h5py\n",
    "\n",
    "tissue_type = 0 # 0 = extra-vascular, 1 = intra-vascular, [0,1] = combined\n",
    "\n",
    "results_dir = './outputs/'\n",
    "\n",
    "def read_results(filename):\n",
    "    signal_magnitude = []\n",
    "    filepath = os.path.join(results_dir, f'{filename}.h5')\n",
    "    with h5py.File(filepath, 'r') as h5:\n",
    "        M = np.array(h5['M'])\n",
    "        T = np.array(h5['T'])\n",
    "        S = np.array(h5['scales'])\n",
    "        for ids, s in enumerate(S):\n",
    "            mask = (T[ids, :, 0, 0] == tissue_type)\n",
    "            M_f = M[ids, mask, 0, :]\n",
    "            M_f = np.mean(M_f[...,0:2], axis=0)\n",
    "            signal_magnitude.append(np.linalg.norm(M_f))\n",
    "    return signal_magnitude\n",
    "\n",
    "\n",
    "############\n",
    "radius = 8\n",
    "oxy_level = ['0.78', '0.85']\n",
    "signal_change = []\n",
    "for iseq, seq_name in enumerate(['gre', 'se', 'bssfp']):\n",
    "    signal_magnitude = []\n",
    "    for o in oxy_level:\n",
    "        filename = f'{seq_name}_r{radius}_Y{o}_vf4_ori90_fov600_res600'\n",
    "        signal_magnitude.append(read_results(filename))\n",
    "    signal_magnitude = np.array(signal_magnitude)\n",
    "    signal_change.append(100 * (1 - signal_magnitude[0,:] / signal_magnitude[1,:]))\n",
    "\n",
    "\n",
    "with h5py.File(os.path.join(results_dir, f'{filename}.h5'), 'r') as h5:\n",
    "    scales = np.array(h5['scales'])\n",
    "    "
   ]
  },
  {
   "cell_type": "code",
   "execution_count": 20,
   "metadata": {
    "id": "h424CsngbtwS"
   },
   "outputs": [
    {
     "data": {
      "image/png": "[encoded data removed]",
      "text/plain": [
       "<Figure size 1400x500 with 4 Axes>"
      ]
     },
     "metadata": {},
     "output_type": "display_data"
    }
   ],
   "source": [
    "import numpy as np\n",
    "import matplotlib.pyplot as plt\n",
    "import matplotlib.patches as mpatches\n",
    "\n",
    "plt.rcParams['svg.fonttype'] = 'none' # to embed fonts in SVG output\n",
    "\n",
    "# Create data\n",
    "x = radius * scales.squeeze()\n",
    "x = x.reshape(-1)\n",
    "\n",
    "plt.close('all')\n",
    "BV   = [2, 5]\n",
    "cmap = plt.get_cmap('Set2')\n",
    "colors = cmap(np.linspace(0, 1, len(signal_change_gre)))\n",
    "fig, axs = plt.subplots(1, 3, figsize=(14, 5))\n",
    "for i, (ax, sig) in enumerate(zip(axs, signal_change)):\n",
    "    ax.plot(x, sig, linewidth=3)\n",
    "    ax.set_xlabel('Radius (µm)', fontsize=16)\n",
    "    ax.set_xscale('log')\n",
    "    ax.spines['top'].set_visible(False)\n",
    "    ax.spines['right'].set_visible(False)\n",
    "    ax.set_xlim([0.1, 300])\n",
    "    ax.set_ylim([0, 15.5])\n",
    "    ax.patch.set_visible(False)\n",
    "\n",
    "    ax.tick_params(axis='both', which='major', labelsize=14)\n",
    "\n",
    "    if i == 0:\n",
    "        ax.set_ylabel('Signal Change (%)', fontsize=16)\n",
    "        ax.text(0.7, 0.85, 'GRE', transform=ax.transAxes, fontsize=16)\n",
    "    if i == 1:\n",
    "        ax.text(0.4, 0.63, 'SE', transform=ax.transAxes, fontsize=16)\n",
    "    if i == 2:\n",
    "        ax.text(0.52, 0.5, 'bSSFP', transform=ax.transAxes, fontsize=16)\n",
    "    if i != 0:\n",
    "        ax.set_yticklabels([])\n",
    "        ax.spines['left'].set_visible(False)\n",
    "        ax.tick_params(axis='y', left=False)\n",
    "\n",
    "# shared axes for the grid\n",
    "ax_g = fig.add_subplot(111, zorder=-1)\n",
    "ax_g.spines[['right', 'top', 'left', 'bottom']].set_visible(False)\n",
    "ax_g.tick_params(labelleft=False, labelbottom=False, left=False, right=False )\n",
    "ax_g.set_ylim([0, 15.5])\n",
    "ax_g.yaxis.grid(True, linewidth=0.7, color='#e5e5e5')\n",
    "ax_g.patch.set_visible(False)\n",
    "\n"
   ]
  }
 ],
 "metadata": {
  "colab": {
   "provenance": []
  },
  "kernelspec": {
   "display_name": "Python 3 (ipykernel)",
   "language": "python",
   "name": "python3"
  },
  "language_info": {
   "codemirror_mode": {
    "name": "ipython",
    "version": 3
   },
   "file_extension": ".py",
   "mimetype": "text/x-python",
   "name": "python",
   "nbconvert_exporter": "python",
   "pygments_lexer": "ipython3",
   "version": "3.10.12"
  }
 },
 "nbformat": 4,
 "nbformat_minor": 4
}
